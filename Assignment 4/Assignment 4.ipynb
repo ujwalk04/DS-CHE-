{
  "cells": [
    {
      "cell_type": "code",
      "execution_count": 101,
      "metadata": {
        "id": "fhGfTMo0OfBG"
      },
      "outputs": [],
      "source": [
        "\n",
        "import numpy as np\n",
        "import matplotlib.pyplot as plt\n",
        "import pandas as pd\n",
        "import sklearn\n",
        "import sklearn.datasets\n",
        "import sklearn.linear_model\n",
        "\n",
        "\n",
        "%matplotlib inline\n",
        "\n"
      ]
    },
    {
      "cell_type": "code",
      "execution_count": 102,
      "metadata": {
        "colab": {
          "base_uri": "https://localhost:8080/",
          "height": 424
        },
        "id": "FkS6-2UjXzLv",
        "outputId": "49d85e93-4a74-4bff-ecce-76209dd89513"
      },
      "outputs": [
        {
          "data": {
            "text/html": [
              "\n",
              "  <div id=\"df-279daa1e-43b3-400c-a34c-4335f7449d53\">\n",
              "    <div class=\"colab-df-container\">\n",
              "      <div>\n",
              "<style scoped>\n",
              "    .dataframe tbody tr th:only-of-type {\n",
              "        vertical-align: middle;\n",
              "    }\n",
              "\n",
              "    .dataframe tbody tr th {\n",
              "        vertical-align: top;\n",
              "    }\n",
              "\n",
              "    .dataframe thead th {\n",
              "        text-align: right;\n",
              "    }\n",
              "</style>\n",
              "<table border=\"1\" class=\"dataframe\">\n",
              "  <thead>\n",
              "    <tr style=\"text-align: right;\">\n",
              "      <th></th>\n",
              "      <th>AT</th>\n",
              "      <th>V</th>\n",
              "      <th>AP</th>\n",
              "      <th>RH</th>\n",
              "      <th>PE</th>\n",
              "    </tr>\n",
              "  </thead>\n",
              "  <tbody>\n",
              "    <tr>\n",
              "      <th>0</th>\n",
              "      <td>14.96</td>\n",
              "      <td>41.76</td>\n",
              "      <td>1024.07</td>\n",
              "      <td>73.17</td>\n",
              "      <td>463.26</td>\n",
              "    </tr>\n",
              "    <tr>\n",
              "      <th>1</th>\n",
              "      <td>25.18</td>\n",
              "      <td>62.96</td>\n",
              "      <td>1020.04</td>\n",
              "      <td>59.08</td>\n",
              "      <td>444.37</td>\n",
              "    </tr>\n",
              "    <tr>\n",
              "      <th>2</th>\n",
              "      <td>5.11</td>\n",
              "      <td>39.40</td>\n",
              "      <td>1012.16</td>\n",
              "      <td>92.14</td>\n",
              "      <td>488.56</td>\n",
              "    </tr>\n",
              "    <tr>\n",
              "      <th>3</th>\n",
              "      <td>20.86</td>\n",
              "      <td>57.32</td>\n",
              "      <td>1010.24</td>\n",
              "      <td>76.64</td>\n",
              "      <td>446.48</td>\n",
              "    </tr>\n",
              "    <tr>\n",
              "      <th>4</th>\n",
              "      <td>10.82</td>\n",
              "      <td>37.50</td>\n",
              "      <td>1009.23</td>\n",
              "      <td>96.62</td>\n",
              "      <td>473.90</td>\n",
              "    </tr>\n",
              "    <tr>\n",
              "      <th>...</th>\n",
              "      <td>...</td>\n",
              "      <td>...</td>\n",
              "      <td>...</td>\n",
              "      <td>...</td>\n",
              "      <td>...</td>\n",
              "    </tr>\n",
              "    <tr>\n",
              "      <th>9563</th>\n",
              "      <td>16.65</td>\n",
              "      <td>49.69</td>\n",
              "      <td>1014.01</td>\n",
              "      <td>91.00</td>\n",
              "      <td>460.03</td>\n",
              "    </tr>\n",
              "    <tr>\n",
              "      <th>9564</th>\n",
              "      <td>13.19</td>\n",
              "      <td>39.18</td>\n",
              "      <td>1023.67</td>\n",
              "      <td>66.78</td>\n",
              "      <td>469.62</td>\n",
              "    </tr>\n",
              "    <tr>\n",
              "      <th>9565</th>\n",
              "      <td>31.32</td>\n",
              "      <td>74.33</td>\n",
              "      <td>1012.92</td>\n",
              "      <td>36.48</td>\n",
              "      <td>429.57</td>\n",
              "    </tr>\n",
              "    <tr>\n",
              "      <th>9566</th>\n",
              "      <td>24.48</td>\n",
              "      <td>69.45</td>\n",
              "      <td>1013.86</td>\n",
              "      <td>62.39</td>\n",
              "      <td>435.74</td>\n",
              "    </tr>\n",
              "    <tr>\n",
              "      <th>9567</th>\n",
              "      <td>21.60</td>\n",
              "      <td>62.52</td>\n",
              "      <td>1017.23</td>\n",
              "      <td>67.87</td>\n",
              "      <td>453.28</td>\n",
              "    </tr>\n",
              "  </tbody>\n",
              "</table>\n",
              "<p>9568 rows × 5 columns</p>\n",
              "</div>\n",
              "      <button class=\"colab-df-convert\" onclick=\"convertToInteractive('df-279daa1e-43b3-400c-a34c-4335f7449d53')\"\n",
              "              title=\"Convert this dataframe to an interactive table.\"\n",
              "              style=\"display:none;\">\n",
              "        \n",
              "  <svg xmlns=\"http://www.w3.org/2000/svg\" height=\"24px\"viewBox=\"0 0 24 24\"\n",
              "       width=\"24px\">\n",
              "    <path d=\"M0 0h24v24H0V0z\" fill=\"none\"/>\n",
              "    <path d=\"M18.56 5.44l.94 2.06.94-2.06 2.06-.94-2.06-.94-.94-2.06-.94 2.06-2.06.94zm-11 1L8.5 8.5l.94-2.06 2.06-.94-2.06-.94L8.5 2.5l-.94 2.06-2.06.94zm10 10l.94 2.06.94-2.06 2.06-.94-2.06-.94-.94-2.06-.94 2.06-2.06.94z\"/><path d=\"M17.41 7.96l-1.37-1.37c-.4-.4-.92-.59-1.43-.59-.52 0-1.04.2-1.43.59L10.3 9.45l-7.72 7.72c-.78.78-.78 2.05 0 2.83L4 21.41c.39.39.9.59 1.41.59.51 0 1.02-.2 1.41-.59l7.78-7.78 2.81-2.81c.8-.78.8-2.07 0-2.86zM5.41 20L4 18.59l7.72-7.72 1.47 1.35L5.41 20z\"/>\n",
              "  </svg>\n",
              "      </button>\n",
              "      \n",
              "  <style>\n",
              "    .colab-df-container {\n",
              "      display:flex;\n",
              "      flex-wrap:wrap;\n",
              "      gap: 12px;\n",
              "    }\n",
              "\n",
              "    .colab-df-convert {\n",
              "      background-color: #E8F0FE;\n",
              "      border: none;\n",
              "      border-radius: 50%;\n",
              "      cursor: pointer;\n",
              "      display: none;\n",
              "      fill: #1967D2;\n",
              "      height: 32px;\n",
              "      padding: 0 0 0 0;\n",
              "      width: 32px;\n",
              "    }\n",
              "\n",
              "    .colab-df-convert:hover {\n",
              "      background-color: #E2EBFA;\n",
              "      box-shadow: 0px 1px 2px rgba(60, 64, 67, 0.3), 0px 1px 3px 1px rgba(60, 64, 67, 0.15);\n",
              "      fill: #174EA6;\n",
              "    }\n",
              "\n",
              "    [theme=dark] .colab-df-convert {\n",
              "      background-color: #3B4455;\n",
              "      fill: #D2E3FC;\n",
              "    }\n",
              "\n",
              "    [theme=dark] .colab-df-convert:hover {\n",
              "      background-color: #434B5C;\n",
              "      box-shadow: 0px 1px 3px 1px rgba(0, 0, 0, 0.15);\n",
              "      filter: drop-shadow(0px 1px 2px rgba(0, 0, 0, 0.3));\n",
              "      fill: #FFFFFF;\n",
              "    }\n",
              "  </style>\n",
              "\n",
              "      <script>\n",
              "        const buttonEl =\n",
              "          document.querySelector('#df-279daa1e-43b3-400c-a34c-4335f7449d53 button.colab-df-convert');\n",
              "        buttonEl.style.display =\n",
              "          google.colab.kernel.accessAllowed ? 'block' : 'none';\n",
              "\n",
              "        async function convertToInteractive(key) {\n",
              "          const element = document.querySelector('#df-279daa1e-43b3-400c-a34c-4335f7449d53');\n",
              "          const dataTable =\n",
              "            await google.colab.kernel.invokeFunction('convertToInteractive',\n",
              "                                                     [key], {});\n",
              "          if (!dataTable) return;\n",
              "\n",
              "          const docLinkHtml = 'Like what you see? Visit the ' +\n",
              "            '<a target=\"_blank\" href=https://colab.research.google.com/notebooks/data_table.ipynb>data table notebook</a>'\n",
              "            + ' to learn more about interactive tables.';\n",
              "          element.innerHTML = '';\n",
              "          dataTable['output_type'] = 'display_data';\n",
              "          await google.colab.output.renderOutput(dataTable, element);\n",
              "          const docLink = document.createElement('div');\n",
              "          docLink.innerHTML = docLinkHtml;\n",
              "          element.appendChild(docLink);\n",
              "        }\n",
              "      </script>\n",
              "    </div>\n",
              "  </div>\n",
              "  "
            ],
            "text/plain": [
              "         AT      V       AP     RH      PE\n",
              "0     14.96  41.76  1024.07  73.17  463.26\n",
              "1     25.18  62.96  1020.04  59.08  444.37\n",
              "2      5.11  39.40  1012.16  92.14  488.56\n",
              "3     20.86  57.32  1010.24  76.64  446.48\n",
              "4     10.82  37.50  1009.23  96.62  473.90\n",
              "...     ...    ...      ...    ...     ...\n",
              "9563  16.65  49.69  1014.01  91.00  460.03\n",
              "9564  13.19  39.18  1023.67  66.78  469.62\n",
              "9565  31.32  74.33  1012.92  36.48  429.57\n",
              "9566  24.48  69.45  1013.86  62.39  435.74\n",
              "9567  21.60  62.52  1017.23  67.87  453.28\n",
              "\n",
              "[9568 rows x 5 columns]"
            ]
          },
          "execution_count": 102,
          "metadata": {},
          "output_type": "execute_result"
        }
      ],
      "source": [
        "data = pd.read_csv('data.csv')\n",
        "data"
      ]
    },
    {
      "cell_type": "code",
      "execution_count": 103,
      "metadata": {
        "id": "xfpiRcGbjLk0"
      },
      "outputs": [],
      "source": [
        "x = data.drop(\"PE\", axis=1).values\n",
        "y = data[\"PE\"].values\n",
        "y=y.reshape((9568,1))"
      ]
    },
    {
      "cell_type": "code",
      "execution_count": 115,
      "metadata": {
        "colab": {
          "base_uri": "https://localhost:8080/"
        },
        "id": "QgB5gol3YRXx",
        "outputId": "b47464eb-b88d-4bee-963a-210f3c174500"
      },
      "outputs": [
        {
          "name": "stdout",
          "output_type": "stream",
          "text": [
            "(3157, 4)\n",
            "(3157, 1)\n"
          ]
        },
        {
          "data": {
            "text/plain": [
              "(None, None)"
            ]
          },
          "execution_count": 115,
          "metadata": {},
          "output_type": "execute_result"
        }
      ],
      "source": [
        "from sklearn.model_selection import train_test_split\n",
        "\n",
        "x_train,x_rem,y_train,y_rem = train_test_split(x, y, train_size = 0.33, random_state = 43)\n",
        "x_valid,x_test,y_valid,y_test = train_test_split(x_rem, y_rem, test_size=0.33, random_state=43)\n",
        "\n",
        "print(x_train.shape),print(y_train.shape)"
      ]
    },
    {
      "cell_type": "code",
      "execution_count": 105,
      "metadata": {
        "id": "95lOasGdgycn"
      },
      "outputs": [],
      "source": [
        "\n",
        "def sigmoid(x):\n",
        "    return 1 / (1 + np.exp(-x))\n",
        "\n",
        "def sigmoid_derivative(x):\n",
        "    return sigmoid(x) * (1 - sigmoid(x))"
      ]
    },
    {
      "cell_type": "code",
      "execution_count": 106,
      "metadata": {
        "id": "XY8gwdclOfBO"
      },
      "outputs": [],
      "source": [
        "\n",
        "\n",
        "def layer_size(x_train,y_train):\n",
        "    shape_x=X_train.shape\n",
        "    shape_y=y_train.shape\n",
        "    m=x_train.size/shape_x[1]\n",
        "\n",
        "    input_neurons=X_train.shape[1] \n",
        "    hidden_neurons=8\n",
        "    output_neurons=y_train.shape[1] \n",
        "    return (input_neurons,hidden_neurons,output_neurons)"
      ]
    },
    {
      "cell_type": "code",
      "execution_count": 107,
      "metadata": {
        "id": "-TJRY1bhOfBQ"
      },
      "outputs": [],
      "source": [
        "def initial_parameters(input_neurons,hidden_neurons,output_neurons):\n",
        "    np.random.seed(2)\n",
        "    w1=np.random.randn(hidden_neurons,input_neurons)*0.01 \n",
        "    b1=np.random.randn(hidden_neurons,1) \n",
        "    w2=np.random.randn(output_neurons,hidden_neurons)*0.01 \n",
        "    b2=np.random.randn(output_neurons,1) \n",
        "    \n",
        "    parameters = {\"w1\": w1,\n",
        "                  \"b1\": b1,\n",
        "                  \"w2\": w2,\n",
        "                  \"b2\": b2}\n",
        "    \n",
        "    return parameters"
      ]
    },
    {
      "cell_type": "code",
      "execution_count": 108,
      "metadata": {
        "id": "3BI3pkKSOfBR"
      },
      "outputs": [],
      "source": [
        "def forward_propagation(X_train,parameters):\n",
        "    w1 = parameters[\"w1\"]\n",
        "    b1 = parameters[\"b1\"]\n",
        "    w2 = parameters[\"w2\"]\n",
        "    b2 = parameters[\"b2\"]\n",
        "    \n",
        "    z1=np.dot(w1,x_train.T)+b1\n",
        "    a1=sigmoid(z1)\n",
        "    z2=np.dot(w2,a1)+b2\n",
        "    a2=(z2)\n",
        "    \n",
        "    \n",
        "    \n",
        "    \n",
        "    cache = {\"z1\": z1,\n",
        "             \"a1\": a1,\n",
        "             \"z2\": z2,\n",
        "             \"a2\": a2}\n",
        "    \n",
        "    return a2, cache"
      ]
    },
    {
      "cell_type": "code",
      "execution_count": 109,
      "metadata": {
        "id": "5FVcGz0eOfBS"
      },
      "outputs": [],
      "source": [
        "def cost_func(a2,y_train,parameters):\n",
        "    w1 = parameters[\"w1\"]\n",
        "    b1 = parameters[\"b1\"]\n",
        "    w2 = parameters[\"w2\"]\n",
        "    b2 = parameters[\"b2\"]\n",
        "    \n",
        "    bb=np.power((a2-(y_train.T)),2)\n",
        "    bbc=(np.sum(bb,axis=1))"
      ]
    },
    {
      "cell_type": "code",
      "execution_count": 110,
      "metadata": {
        "id": "talWL8aSOfBT"
      },
      "outputs": [],
      "source": [
        "def back_propagation(parameters,cache,X_train,y_train):\n",
        "    m=7654\n",
        "    \n",
        "    w1 = parameters[\"w1\"]\n",
        "    b1 = parameters[\"b1\"]\n",
        "    w2 = parameters[\"w2\"]\n",
        "    b2 = parameters[\"b2\"]\n",
        "    \n",
        "    a1 = cache[\"a1\"]\n",
        "    a2 = cache[\"a2\"]\n",
        "    z1 = cache[\"z1\"]\n",
        "    z2 = cache[\"z2\"]\n",
        "    \n",
        "    dz2 = (z2-y_train.T)\n",
        "    dw2 = 1/(2*m) * np.dot(dz2,a1.T)\n",
        "    db2 = 1/(2*m) * (np.sum(dz2,axis=1,keepdims=True))\n",
        "    \n",
        "    \n",
        "    \n",
        "    dz1 = (np.dot(w2.T,dz2))*sigmoid_derivative(a1)\n",
        "    dw1 = 1/(2*m) * np.dot(dz1,X_train)\n",
        "    db1 = 1/(2*m) * np.sum(dz1,axis=1,keepdims=True)\n",
        "    \n",
        "\n",
        "    grads = {\"dw1\": dw1,\n",
        "             \"db1\": db1,\n",
        "             \"dw2\": dw2,\n",
        "             \"db2\": db2}\n",
        "    \n",
        "    return grads,dz2"
      ]
    },
    {
      "cell_type": "code",
      "execution_count": 111,
      "metadata": {
        "id": "epNAq5__OfBU"
      },
      "outputs": [],
      "source": [
        "def update(parameters,grads,learning_rate):\n",
        "    w1 = parameters[\"w1\"]\n",
        "    b1 = parameters[\"b1\"]\n",
        "    w2 = parameters[\"w2\"]\n",
        "    b2 = parameters[\"b2\"]\n",
        "    \n",
        "    dw1 = grads[\"dw1\"]\n",
        "    db1 = grads[\"db1\"]\n",
        "    dw2 = grads[\"dw2\"]\n",
        "    db2 = grads[\"db2\"]\n",
        "    \n",
        "    w1 = w1 - learning_rate * dw1\n",
        "    b1 = b1 - learning_rate * db1\n",
        "    w2 = w2 - learning_rate * dw2\n",
        "    b2 = b2 - learning_rate * db2\n",
        "    \n",
        "    \n",
        "    parameters = {\"w1\": w1,\n",
        "                  \"b1\": b1,\n",
        "                  \"w2\": w2,\n",
        "                  \"b2\": b2}\n",
        "    \n",
        "    return parameters"
      ]
    },
    {
      "cell_type": "code",
      "execution_count": 114,
      "metadata": {
        "colab": {
          "base_uri": "https://localhost:8080/"
        },
        "id": "xLf7Z9DKOfBV",
        "outputId": "4e21fc5b-7800-4eb3-c76f-dc797ec7180d"
      },
      "outputs": [
        {
          "name": "stderr",
          "output_type": "stream",
          "text": [
            "<ipython-input-105-4b5c3078db47>:3: RuntimeWarning: overflow encountered in exp\n",
            "  return 1 / (1 + np.exp(-x))\n"
          ]
        },
        {
          "name": "stdout",
          "output_type": "stream",
          "text": [
            "The predicted values from the model are:\n",
            "[407.98518998 443.26518998 420.44518998 ... 429.74518998 441.93518998\n",
            " 439.36518998]\n"
          ]
        }
      ],
      "source": [
        "learning_rate=0.01\n",
        "input_neurons,hidden_neurons,output_neurons = layer_size(x_train,y_train)\n",
        "parameters = initial_parameters(input_neurons,hidden_neurons,output_neurons)\n",
        "\n",
        "w1=parameters['w1']\n",
        "b1=parameters['b1']\n",
        "w2=parameters['w2']\n",
        "b2=parameters['b2']\n",
        "\n",
        "epoch=100\n",
        "for i in range (epoch):\n",
        "    \n",
        "    a2,cache=forward_propagation(x_train,parameters)\n",
        "    \n",
        "    cost=cost_func(a2,y_train,parameters)\n",
        "    \n",
        "    grads,dz2=back_propagation(parameters,cache,x_train,y_train)\n",
        "    \n",
        "    parameters=update(parameters,grads,learning_rate)\n",
        "    \n",
        "    y_pred=a2+dz2\n",
        "    \n",
        "print('The predicted values from the model are:')\n",
        "print(np.squeeze(y_pred))"
      ]
    }
  ],
  "metadata": {
    "colab": {
      "provenance": []
    },
    "coursera": {
      "course_slug": "neural-networks-deep-learning",
      "graded_item_id": "wRuwL",
      "launcher_item_id": "NI888"
    },
    "kernelspec": {
      "display_name": "Python 3",
      "language": "python",
      "name": "python3"
    },
    "language_info": {
      "codemirror_mode": {
        "name": "ipython",
        "version": 3
      },
      "file_extension": ".py",
      "mimetype": "text/x-python",
      "name": "python",
      "nbconvert_exporter": "python",
      "pygments_lexer": "ipython3",
      "version": "3.8.5"
    },
    "varInspector": {
      "cols": {
        "lenName": 16,
        "lenType": 16,
        "lenVar": 40
      },
      "kernels_config": {
        "python": {
          "delete_cmd_postfix": "",
          "delete_cmd_prefix": "del ",
          "library": "var_list.py",
          "varRefreshCmd": "print(var_dic_list())"
        },
        "r": {
          "delete_cmd_postfix": ") ",
          "delete_cmd_prefix": "rm(",
          "library": "var_list.r",
          "varRefreshCmd": "cat(var_dic_list()) "
        }
      },
      "types_to_exclude": [
        "module",
        "function",
        "builtin_function_or_method",
        "instance",
        "_Feature"
      ],
      "window_display": false
    }
  },
  "nbformat": 4,
  "nbformat_minor": 0
}
