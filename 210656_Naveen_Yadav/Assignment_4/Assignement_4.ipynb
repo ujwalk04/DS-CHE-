{
 "cells": [
  {
   "cell_type": "code",
   "execution_count": 1907,
   "id": "6c16e5f5",
   "metadata": {},
   "outputs": [],
   "source": [
    "import pandas as pd\n",
    "import numpy as np\n",
    "import matplotlib.pyplot as plt\n",
    "import seaborn as sns"
   ]
  },
  {
   "cell_type": "code",
   "execution_count": 1908,
   "id": "533511d3",
   "metadata": {},
   "outputs": [
    {
     "data": {
      "text/html": [
       "<div>\n",
       "<style scoped>\n",
       "    .dataframe tbody tr th:only-of-type {\n",
       "        vertical-align: middle;\n",
       "    }\n",
       "\n",
       "    .dataframe tbody tr th {\n",
       "        vertical-align: top;\n",
       "    }\n",
       "\n",
       "    .dataframe thead th {\n",
       "        text-align: right;\n",
       "    }\n",
       "</style>\n",
       "<table border=\"1\" class=\"dataframe\">\n",
       "  <thead>\n",
       "    <tr style=\"text-align: right;\">\n",
       "      <th></th>\n",
       "      <th>AT</th>\n",
       "      <th>V</th>\n",
       "      <th>AP</th>\n",
       "      <th>RH</th>\n",
       "      <th>PE</th>\n",
       "    </tr>\n",
       "  </thead>\n",
       "  <tbody>\n",
       "    <tr>\n",
       "      <th>0</th>\n",
       "      <td>14.96</td>\n",
       "      <td>41.76</td>\n",
       "      <td>1024.07</td>\n",
       "      <td>73.17</td>\n",
       "      <td>463.26</td>\n",
       "    </tr>\n",
       "    <tr>\n",
       "      <th>1</th>\n",
       "      <td>25.18</td>\n",
       "      <td>62.96</td>\n",
       "      <td>1020.04</td>\n",
       "      <td>59.08</td>\n",
       "      <td>444.37</td>\n",
       "    </tr>\n",
       "    <tr>\n",
       "      <th>2</th>\n",
       "      <td>5.11</td>\n",
       "      <td>39.40</td>\n",
       "      <td>1012.16</td>\n",
       "      <td>92.14</td>\n",
       "      <td>488.56</td>\n",
       "    </tr>\n",
       "    <tr>\n",
       "      <th>3</th>\n",
       "      <td>20.86</td>\n",
       "      <td>57.32</td>\n",
       "      <td>1010.24</td>\n",
       "      <td>76.64</td>\n",
       "      <td>446.48</td>\n",
       "    </tr>\n",
       "    <tr>\n",
       "      <th>4</th>\n",
       "      <td>10.82</td>\n",
       "      <td>37.50</td>\n",
       "      <td>1009.23</td>\n",
       "      <td>96.62</td>\n",
       "      <td>473.90</td>\n",
       "    </tr>\n",
       "    <tr>\n",
       "      <th>...</th>\n",
       "      <td>...</td>\n",
       "      <td>...</td>\n",
       "      <td>...</td>\n",
       "      <td>...</td>\n",
       "      <td>...</td>\n",
       "    </tr>\n",
       "    <tr>\n",
       "      <th>9563</th>\n",
       "      <td>16.65</td>\n",
       "      <td>49.69</td>\n",
       "      <td>1014.01</td>\n",
       "      <td>91.00</td>\n",
       "      <td>460.03</td>\n",
       "    </tr>\n",
       "    <tr>\n",
       "      <th>9564</th>\n",
       "      <td>13.19</td>\n",
       "      <td>39.18</td>\n",
       "      <td>1023.67</td>\n",
       "      <td>66.78</td>\n",
       "      <td>469.62</td>\n",
       "    </tr>\n",
       "    <tr>\n",
       "      <th>9565</th>\n",
       "      <td>31.32</td>\n",
       "      <td>74.33</td>\n",
       "      <td>1012.92</td>\n",
       "      <td>36.48</td>\n",
       "      <td>429.57</td>\n",
       "    </tr>\n",
       "    <tr>\n",
       "      <th>9566</th>\n",
       "      <td>24.48</td>\n",
       "      <td>69.45</td>\n",
       "      <td>1013.86</td>\n",
       "      <td>62.39</td>\n",
       "      <td>435.74</td>\n",
       "    </tr>\n",
       "    <tr>\n",
       "      <th>9567</th>\n",
       "      <td>21.60</td>\n",
       "      <td>62.52</td>\n",
       "      <td>1017.23</td>\n",
       "      <td>67.87</td>\n",
       "      <td>453.28</td>\n",
       "    </tr>\n",
       "  </tbody>\n",
       "</table>\n",
       "<p>9568 rows × 5 columns</p>\n",
       "</div>"
      ],
      "text/plain": [
       "         AT      V       AP     RH      PE\n",
       "0     14.96  41.76  1024.07  73.17  463.26\n",
       "1     25.18  62.96  1020.04  59.08  444.37\n",
       "2      5.11  39.40  1012.16  92.14  488.56\n",
       "3     20.86  57.32  1010.24  76.64  446.48\n",
       "4     10.82  37.50  1009.23  96.62  473.90\n",
       "...     ...    ...      ...    ...     ...\n",
       "9563  16.65  49.69  1014.01  91.00  460.03\n",
       "9564  13.19  39.18  1023.67  66.78  469.62\n",
       "9565  31.32  74.33  1012.92  36.48  429.57\n",
       "9566  24.48  69.45  1013.86  62.39  435.74\n",
       "9567  21.60  62.52  1017.23  67.87  453.28\n",
       "\n",
       "[9568 rows x 5 columns]"
      ]
     },
     "execution_count": 1908,
     "metadata": {},
     "output_type": "execute_result"
    }
   ],
   "source": [
    "df=pd.read_csv(\"data.csv\")\n",
    "df"
   ]
  },
  {
   "cell_type": "code",
   "execution_count": 1909,
   "id": "7c0aff9a",
   "metadata": {
    "scrolled": false
   },
   "outputs": [],
   "source": [
    "# #Normalizing the data\n",
    "# from sklearn import preprocessing\n",
    "# d=preprocessing.normalize(df)\n",
    "# scaled_df=pd.DataFrame(d,columns=['AT','V','AP','RH','PE'])\n",
    "# scaled_df"
   ]
  },
  {
   "cell_type": "code",
   "execution_count": 1910,
   "id": "7e67ac14",
   "metadata": {},
   "outputs": [
    {
     "data": {
      "text/html": [
       "<div>\n",
       "<style scoped>\n",
       "    .dataframe tbody tr th:only-of-type {\n",
       "        vertical-align: middle;\n",
       "    }\n",
       "\n",
       "    .dataframe tbody tr th {\n",
       "        vertical-align: top;\n",
       "    }\n",
       "\n",
       "    .dataframe thead th {\n",
       "        text-align: right;\n",
       "    }\n",
       "</style>\n",
       "<table border=\"1\" class=\"dataframe\">\n",
       "  <thead>\n",
       "    <tr style=\"text-align: right;\">\n",
       "      <th></th>\n",
       "      <th>Average Temperature</th>\n",
       "      <th>Exhaust Vacuum</th>\n",
       "      <th>Ambient Pressure</th>\n",
       "      <th>Relative Humidity</th>\n",
       "      <th>Net Hourly Electrical Energy Output</th>\n",
       "    </tr>\n",
       "  </thead>\n",
       "  <tbody>\n",
       "    <tr>\n",
       "      <th>0</th>\n",
       "      <td>14.96</td>\n",
       "      <td>41.76</td>\n",
       "      <td>1024.07</td>\n",
       "      <td>73.17</td>\n",
       "      <td>463.26</td>\n",
       "    </tr>\n",
       "    <tr>\n",
       "      <th>1</th>\n",
       "      <td>25.18</td>\n",
       "      <td>62.96</td>\n",
       "      <td>1020.04</td>\n",
       "      <td>59.08</td>\n",
       "      <td>444.37</td>\n",
       "    </tr>\n",
       "    <tr>\n",
       "      <th>2</th>\n",
       "      <td>5.11</td>\n",
       "      <td>39.40</td>\n",
       "      <td>1012.16</td>\n",
       "      <td>92.14</td>\n",
       "      <td>488.56</td>\n",
       "    </tr>\n",
       "    <tr>\n",
       "      <th>3</th>\n",
       "      <td>20.86</td>\n",
       "      <td>57.32</td>\n",
       "      <td>1010.24</td>\n",
       "      <td>76.64</td>\n",
       "      <td>446.48</td>\n",
       "    </tr>\n",
       "    <tr>\n",
       "      <th>4</th>\n",
       "      <td>10.82</td>\n",
       "      <td>37.50</td>\n",
       "      <td>1009.23</td>\n",
       "      <td>96.62</td>\n",
       "      <td>473.90</td>\n",
       "    </tr>\n",
       "  </tbody>\n",
       "</table>\n",
       "</div>"
      ],
      "text/plain": [
       "   Average Temperature  Exhaust Vacuum  Ambient Pressure  Relative Humidity   \\\n",
       "0                14.96           41.76           1024.07               73.17   \n",
       "1                25.18           62.96           1020.04               59.08   \n",
       "2                 5.11           39.40           1012.16               92.14   \n",
       "3                20.86           57.32           1010.24               76.64   \n",
       "4                10.82           37.50           1009.23               96.62   \n",
       "\n",
       "   Net Hourly Electrical Energy Output  \n",
       "0                               463.26  \n",
       "1                               444.37  \n",
       "2                               488.56  \n",
       "3                               446.48  \n",
       "4                               473.90  "
      ]
     },
     "execution_count": 1910,
     "metadata": {},
     "output_type": "execute_result"
    }
   ],
   "source": [
    "df.rename(columns={'AT': 'Average Temperature', 'V': 'Exhaust Vacuum','AP': 'Ambient Pressure',\n",
    "                   'RH': 'Relative Humidity ','PE': 'Net Hourly Electrical Energy Output'}, inplace=True)\n",
    "df.head()"
   ]
  },
  {
   "cell_type": "code",
   "execution_count": 1911,
   "id": "318d2e68",
   "metadata": {},
   "outputs": [
    {
     "data": {
      "text/plain": [
       "454.3650094063554"
      ]
     },
     "execution_count": 1911,
     "metadata": {},
     "output_type": "execute_result"
    }
   ],
   "source": [
    "df.isnull().sum()\n",
    "df['Net Hourly Electrical Energy Output'].mean()"
   ]
  },
  {
   "cell_type": "code",
   "execution_count": 1912,
   "id": "94b36a2f",
   "metadata": {},
   "outputs": [],
   "source": [
    "x = df.drop(\"Net Hourly Electrical Energy Output\", axis=1).values\n",
    "y = df[\"Net Hourly Electrical Energy Output\"].values\n",
    "y=y.reshape((9568,1))\n"
   ]
  },
  {
   "cell_type": "code",
   "execution_count": 1913,
   "id": "21c4f7e4",
   "metadata": {},
   "outputs": [
    {
     "data": {
      "image/png": "[encoded data removed]",
      "text/plain": [
       "<Figure size 1000x500 with 2 Axes>"
      ]
     },
     "metadata": {},
     "output_type": "display_data"
    }
   ],
   "source": [
    "corr=df.corr()\n",
    "plt.figure(figsize=(10,5))\n",
    "sns.heatmap(corr, annot=True)\n",
    "plt.show()"
   ]
  },
  {
   "cell_type": "code",
   "execution_count": 1914,
   "id": "4d376a1c",
   "metadata": {},
   "outputs": [
    {
     "name": "stdout",
     "output_type": "stream",
     "text": [
      "(7654, 4)\n",
      "(7654, 1)\n"
     ]
    },
    {
     "data": {
      "text/plain": [
       "(None, None)"
      ]
     },
     "execution_count": 1914,
     "metadata": {},
     "output_type": "execute_result"
    }
   ],
   "source": [
    "#splitting the dataset into training, validation and testing\n",
    "from sklearn.model_selection import train_test_split\n",
    "\n",
    "x_train,x_rem,y_train,y_rem = train_test_split(x, y, train_size = 0.8, random_state = 1)\n",
    "x_valid,x_test,y_valid,y_test = train_test_split(x_rem, y_rem, test_size=0.5, random_state=1)\n",
    "\n",
    "print(x_train.shape),print(y_train.shape)"
   ]
  },
  {
   "cell_type": "code",
   "execution_count": 1915,
   "id": "03dd959e",
   "metadata": {},
   "outputs": [],
   "source": [
    "#defining sigmoid function\n",
    "def sigmoid(x):\n",
    "    return 1 / (1 + np.exp(-x))"
   ]
  },
  {
   "cell_type": "code",
   "execution_count": 1916,
   "id": "15c5dc3d",
   "metadata": {},
   "outputs": [],
   "source": [
    "#defining derivative of sigmoid function\n",
    "def sigmoid_derivative(x):\n",
    "    return sigmoid(x) * (1 - sigmoid(x))"
   ]
  },
  {
   "cell_type": "code",
   "execution_count": 1917,
   "id": "71f8e211",
   "metadata": {},
   "outputs": [],
   "source": [
    "def layer_size(x_train,y_train):\n",
    "    shape_x=x_train.shape\n",
    "    shape_y=y_train.shape\n",
    "    m=x_train.size/shape_x[1]#no of training examples\n",
    "\n",
    "    input_neurons=x_train.shape[1] #4\n",
    "    hidden_neurons=8\n",
    "    output_neurons=y_train.shape[1] #1\n",
    "    return (input_neurons,hidden_neurons,output_neurons)"
   ]
  },
  {
   "cell_type": "code",
   "execution_count": 1918,
   "id": "5878a9d2",
   "metadata": {},
   "outputs": [],
   "source": [
    "def initial_parameters(input_neurons,hidden_neurons,output_neurons):\n",
    "    np.random.seed(2)\n",
    "    w1=np.random.randn(hidden_neurons,input_neurons)*0.01 #1st layer weights\n",
    "    b1=np.random.randn(hidden_neurons,1) #1st layer biases\n",
    "    \n",
    "    w2=np.random.randn(output_neurons,hidden_neurons)*0.01 #2nd layer weights\n",
    "    b2=np.random.randn(output_neurons,1) #2nd layer bias\n",
    "    \n",
    "    parameters = {\"w1\": w1,\n",
    "                  \"b1\": b1,\n",
    "                  \"w2\": w2,\n",
    "                  \"b2\": b2}\n",
    "    \n",
    "    return parameters"
   ]
  },
  {
   "cell_type": "code",
   "execution_count": 1919,
   "id": "0be8b45e",
   "metadata": {},
   "outputs": [],
   "source": [
    "def forward_propagation(x_train,parameters):\n",
    "    w1 = parameters[\"w1\"]\n",
    "    b1 = parameters[\"b1\"]\n",
    "    w2 = parameters[\"w2\"]\n",
    "    b2 = parameters[\"b2\"]\n",
    "    \n",
    "    z1=np.dot(w1,x_train.T)+b1\n",
    "    a1=sigmoid(z1)\n",
    "    z2=np.dot(w2,a1)+b2\n",
    "    a2=(z2)\n",
    "    \n",
    "    \n",
    "    \n",
    "    \n",
    "    cache = {\"z1\": z1,\n",
    "             \"a1\": a1,\n",
    "             \"z2\": z2,\n",
    "             \"a2\": a2}\n",
    "    \n",
    "    return a2, cache"
   ]
  },
  {
   "cell_type": "code",
   "execution_count": 1920,
   "id": "ab4c0877",
   "metadata": {},
   "outputs": [],
   "source": [
    "def cost_func(a2,y_train,parameters):\n",
    "    w1 = parameters[\"w1\"]\n",
    "    b1 = parameters[\"b1\"]\n",
    "    w2 = parameters[\"w2\"]\n",
    "    b2 = parameters[\"b2\"]\n",
    "    \n",
    "    bb=np.power((a2-(y_train.T)),2)\n",
    "    bbc=(np.sum(bb,axis=1))\n",
    "    \n",
    "    "
   ]
  },
  {
   "cell_type": "code",
   "execution_count": 1921,
   "id": "35f80067",
   "metadata": {},
   "outputs": [],
   "source": [
    "def back_propagation(parameters,cache,x_train,y_train):\n",
    "    m=7654\n",
    "    \n",
    "    w1 = parameters[\"w1\"]\n",
    "    b1 = parameters[\"b1\"]\n",
    "    w2 = parameters[\"w2\"]\n",
    "    b2 = parameters[\"b2\"]\n",
    "    \n",
    "    a1 = cache[\"a1\"]\n",
    "    a2 = cache[\"a2\"]\n",
    "    z1 = cache[\"z1\"]\n",
    "    z2 = cache[\"z2\"]\n",
    "    \n",
    "    dz2 = (z2-y_train.T)\n",
    "    dw2 = 1/(2*m) * np.dot(dz2,a1.T)\n",
    "    db2 = 1/(2*m) * (np.sum(dz2,axis=1,keepdims=True))\n",
    "    \n",
    "    \n",
    "    \n",
    "#     dz1=np.multiply(\n",
    "    dz1 = (np.dot(w2.T,dz2))*sigmoid_derivative(a1)\n",
    "    dw1 = 1/(2*m) * np.dot(dz1,x_train)\n",
    "    db1 = 1/(2*m) * np.sum(dz1,axis=1,keepdims=True)\n",
    "    \n",
    "#     print(dw1.shape)\n",
    "#     cost_func(a2,y_train,parameters)\n",
    "#     print(y_train.shape)\n",
    "    \n",
    "    grads = {\"dw1\": dw1,\n",
    "             \"db1\": db1,\n",
    "             \"dw2\": dw2,\n",
    "             \"db2\": db2}\n",
    "    \n",
    "    return grads,dz2"
   ]
  },
  {
   "cell_type": "code",
   "execution_count": 1922,
   "id": "e84a3f03",
   "metadata": {},
   "outputs": [],
   "source": [
    "def update(parameters,grads,learning_rate):\n",
    "    w1 = parameters[\"w1\"]\n",
    "    b1 = parameters[\"b1\"]\n",
    "    w2 = parameters[\"w2\"]\n",
    "    b2 = parameters[\"b2\"]\n",
    "    \n",
    "    dw1 = grads[\"dw1\"]\n",
    "    db1 = grads[\"db1\"]\n",
    "    dw2 = grads[\"dw2\"]\n",
    "    db2 = grads[\"db2\"]\n",
    "    \n",
    "    w1 = w1 - learning_rate * dw1\n",
    "    b1 = b1 - learning_rate * db1\n",
    "    w2 = w2 - learning_rate * dw2\n",
    "    b2 = b2 - learning_rate * db2\n",
    "    \n",
    "    \n",
    "    parameters = {\"w1\": w1,\n",
    "                  \"b1\": b1,\n",
    "                  \"w2\": w2,\n",
    "                  \"b2\": b2}\n",
    "    \n",
    "    return parameters"
   ]
  },
  {
   "cell_type": "code",
   "execution_count": 1923,
   "id": "04382817",
   "metadata": {
    "scrolled": true
   },
   "outputs": [
    {
     "name": "stdout",
     "output_type": "stream",
     "text": [
      "The predicted values from the model are:\n",
      "[424.40196733 459.68196733 436.86196733 ... 446.16196733 458.35196733\n",
      " 455.78196733]\n"
     ]
    },
    {
     "name": "stderr",
     "output_type": "stream",
     "text": [
      "/var/folders/_8/2d7c19hn1tvf_8f1bzzyhgqr0000gn/T/ipykernel_15302/1375434823.py:3: RuntimeWarning: overflow encountered in exp\n",
      "  return 1 / (1 + np.exp(-x))\n"
     ]
    }
   ],
   "source": [
    "learning_rate=0.05\n",
    "input_neurons,hidden_neurons,output_neurons = layer_size(x_train,y_train)\n",
    "parameters = initial_parameters(input_neurons,hidden_neurons,output_neurons)\n",
    "\n",
    "w1=parameters['w1']\n",
    "b1=parameters['b1']\n",
    "w2=parameters['w2']\n",
    "b2=parameters['b2']\n",
    "\n",
    "z2=cache['z2']\n",
    "\n",
    "epoch=100\n",
    "for i in range (epoch):\n",
    "    \n",
    "    a2,cache=forward_propagation(x_train,parameters)\n",
    "    \n",
    "    cost=cost_func(a2,y_train,parameters)\n",
    "    \n",
    "    grads,dz2=back_propagation(parameters,cache,x_train,y_train)\n",
    "    \n",
    "    parameters=update(parameters,grads,learning_rate)\n",
    "    \n",
    "    y_pred=a2+dz2\n",
    "    \n",
    "print('The predicted values from the model are:')\n",
    "print(np.squeeze(y_pred))\n"
   ]
  },
  {
   "cell_type": "code",
   "execution_count": null,
   "id": "2a10b3fe",
   "metadata": {},
   "outputs": [],
   "source": []
  },
  {
   "cell_type": "code",
   "execution_count": null,
   "id": "d7a0938d",
   "metadata": {},
   "outputs": [],
   "source": []
  },
  {
   "cell_type": "code",
   "execution_count": null,
   "id": "a081be8b",
   "metadata": {},
   "outputs": [],
   "source": []
  },
  {
   "cell_type": "code",
   "execution_count": null,
   "id": "a0b2d0b6",
   "metadata": {},
   "outputs": [],
   "source": []
  },
  {
   "cell_type": "code",
   "execution_count": null,
   "id": "f23689c2",
   "metadata": {},
   "outputs": [],
   "source": []
  },
  {
   "cell_type": "code",
   "execution_count": null,
   "id": "1c608d91",
   "metadata": {},
   "outputs": [],
   "source": []
  },
  {
   "cell_type": "code",
   "execution_count": null,
   "id": "ee4df2ee",
   "metadata": {},
   "outputs": [],
   "source": []
  },
  {
   "cell_type": "code",
   "execution_count": null,
   "id": "c778f200",
   "metadata": {},
   "outputs": [],
   "source": []
  },
  {
   "cell_type": "code",
   "execution_count": null,
   "id": "3b4399c1",
   "metadata": {},
   "outputs": [],
   "source": []
  },
  {
   "cell_type": "code",
   "execution_count": null,
   "id": "565d596f",
   "metadata": {},
   "outputs": [],
   "source": []
  },
  {
   "cell_type": "code",
   "execution_count": null,
   "id": "51b1c779",
   "metadata": {},
   "outputs": [],
   "source": []
  }
 ],
 "metadata": {
  "kernelspec": {
   "display_name": "Python 3 (ipykernel)",
   "language": "python",
   "name": "python3"
  },
  "language_info": {
   "codemirror_mode": {
    "name": "ipython",
    "version": 3
   },
   "file_extension": ".py",
   "mimetype": "text/x-python",
   "name": "python",
   "nbconvert_exporter": "python",
   "pygments_lexer": "ipython3",
   "version": "3.9.13"
  }
 },
 "nbformat": 4,
 "nbformat_minor": 5
}
