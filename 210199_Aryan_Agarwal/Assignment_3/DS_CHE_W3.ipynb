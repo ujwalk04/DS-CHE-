{
 "cells": [
  {
   "cell_type": "code",
   "execution_count": null,
   "id": "91aed0db",
   "metadata": {},
   "outputs": [],
   "source": [
    "#Importing Libraries#"
   ]
  },
  {
   "cell_type": "code",
   "execution_count": 17,
   "id": "e0136868",
   "metadata": {},
   "outputs": [],
   "source": [
    "import numpy as np\n",
    "import pandas as pd\n",
    "import matplotlib.pyplot as plt\n",
    "%matplotlib inline\n",
    "from sklearn.linear_model import LinearRegression\n",
    "from sklearn.model_selection import train_test_split\n",
    "from sklearn.metrics import  r2_score"
   ]
  },
  {
   "cell_type": "code",
   "execution_count": 18,
   "id": "a3407c56",
   "metadata": {},
   "outputs": [],
   "source": [
    "##Reading the Data##"
   ]
  },
  {
   "cell_type": "code",
   "execution_count": 19,
   "id": "e6b2d110",
   "metadata": {},
   "outputs": [
    {
     "data": {
      "text/html": [
       "<div>\n",
       "<style scoped>\n",
       "    .dataframe tbody tr th:only-of-type {\n",
       "        vertical-align: middle;\n",
       "    }\n",
       "\n",
       "    .dataframe tbody tr th {\n",
       "        vertical-align: top;\n",
       "    }\n",
       "\n",
       "    .dataframe thead th {\n",
       "        text-align: right;\n",
       "    }\n",
       "</style>\n",
       "<table border=\"1\" class=\"dataframe\">\n",
       "  <thead>\n",
       "    <tr style=\"text-align: right;\">\n",
       "      <th></th>\n",
       "      <th>Pressure</th>\n",
       "      <th>Property</th>\n",
       "      <th>Liq_Sat</th>\n",
       "      <th>Vap_Sat</th>\n",
       "      <th>75</th>\n",
       "      <th>100</th>\n",
       "      <th>125</th>\n",
       "      <th>150</th>\n",
       "      <th>175</th>\n",
       "      <th>200</th>\n",
       "      <th>...</th>\n",
       "      <th>425</th>\n",
       "      <th>450</th>\n",
       "      <th>475</th>\n",
       "      <th>500</th>\n",
       "      <th>525</th>\n",
       "      <th>550</th>\n",
       "      <th>575</th>\n",
       "      <th>600</th>\n",
       "      <th>625</th>\n",
       "      <th>650</th>\n",
       "    </tr>\n",
       "  </thead>\n",
       "  <tbody>\n",
       "    <tr>\n",
       "      <th>0</th>\n",
       "      <td>1.0</td>\n",
       "      <td>V</td>\n",
       "      <td>1.0000</td>\n",
       "      <td>129200.0000</td>\n",
       "      <td>160640.0000</td>\n",
       "      <td>172180.0000</td>\n",
       "      <td>183720.0000</td>\n",
       "      <td>195270.0000</td>\n",
       "      <td>206810.0000</td>\n",
       "      <td>218350.0000</td>\n",
       "      <td>...</td>\n",
       "      <td>NaN</td>\n",
       "      <td>333730.0000</td>\n",
       "      <td>NaN</td>\n",
       "      <td>356810.0000</td>\n",
       "      <td>NaN</td>\n",
       "      <td>379880.0000</td>\n",
       "      <td>NaN</td>\n",
       "      <td>402960.0000</td>\n",
       "      <td>NaN</td>\n",
       "      <td>426040.0000</td>\n",
       "    </tr>\n",
       "    <tr>\n",
       "      <th>1</th>\n",
       "      <td>1.0</td>\n",
       "      <td>U</td>\n",
       "      <td>29.3340</td>\n",
       "      <td>2385.2000</td>\n",
       "      <td>2480.8000</td>\n",
       "      <td>2516.4000</td>\n",
       "      <td>2552.3000</td>\n",
       "      <td>2588.5000</td>\n",
       "      <td>2624.9000</td>\n",
       "      <td>2661.7000</td>\n",
       "      <td>...</td>\n",
       "      <td>NaN</td>\n",
       "      <td>3049.9000</td>\n",
       "      <td>NaN</td>\n",
       "      <td>3132.4000</td>\n",
       "      <td>NaN</td>\n",
       "      <td>3216.7000</td>\n",
       "      <td>NaN</td>\n",
       "      <td>3302.6000</td>\n",
       "      <td>NaN</td>\n",
       "      <td>3390.3000</td>\n",
       "    </tr>\n",
       "    <tr>\n",
       "      <th>2</th>\n",
       "      <td>1.0</td>\n",
       "      <td>H</td>\n",
       "      <td>29.3350</td>\n",
       "      <td>2514.4000</td>\n",
       "      <td>2641.5000</td>\n",
       "      <td>2688.6000</td>\n",
       "      <td>2736.0000</td>\n",
       "      <td>2783.7000</td>\n",
       "      <td>2831.7000</td>\n",
       "      <td>2880.1000</td>\n",
       "      <td>...</td>\n",
       "      <td>NaN</td>\n",
       "      <td>3383.6000</td>\n",
       "      <td>NaN</td>\n",
       "      <td>3489.2000</td>\n",
       "      <td>NaN</td>\n",
       "      <td>3596.5000</td>\n",
       "      <td>NaN</td>\n",
       "      <td>3705.6000</td>\n",
       "      <td>NaN</td>\n",
       "      <td>3816.4000</td>\n",
       "    </tr>\n",
       "    <tr>\n",
       "      <th>3</th>\n",
       "      <td>1.0</td>\n",
       "      <td>S</td>\n",
       "      <td>0.1060</td>\n",
       "      <td>8.9767</td>\n",
       "      <td>9.3828</td>\n",
       "      <td>9.5136</td>\n",
       "      <td>9.6365</td>\n",
       "      <td>9.7527</td>\n",
       "      <td>9.8629</td>\n",
       "      <td>9.9679</td>\n",
       "      <td>...</td>\n",
       "      <td>NaN</td>\n",
       "      <td>10.8200</td>\n",
       "      <td>NaN</td>\n",
       "      <td>10.9612</td>\n",
       "      <td>NaN</td>\n",
       "      <td>11.0957</td>\n",
       "      <td>NaN</td>\n",
       "      <td>11.2243</td>\n",
       "      <td>NaN</td>\n",
       "      <td>11.3476</td>\n",
       "    </tr>\n",
       "    <tr>\n",
       "      <th>4</th>\n",
       "      <td>10.0</td>\n",
       "      <td>V</td>\n",
       "      <td>1.0100</td>\n",
       "      <td>14670.0000</td>\n",
       "      <td>16030.0000</td>\n",
       "      <td>17190.0000</td>\n",
       "      <td>18350.0000</td>\n",
       "      <td>19510.0000</td>\n",
       "      <td>20660.0000</td>\n",
       "      <td>21820.0000</td>\n",
       "      <td>...</td>\n",
       "      <td>NaN</td>\n",
       "      <td>33370.0000</td>\n",
       "      <td>NaN</td>\n",
       "      <td>35670.0000</td>\n",
       "      <td>NaN</td>\n",
       "      <td>37980.0000</td>\n",
       "      <td>NaN</td>\n",
       "      <td>40290.0000</td>\n",
       "      <td>NaN</td>\n",
       "      <td>42600.0000</td>\n",
       "    </tr>\n",
       "    <tr>\n",
       "      <th>...</th>\n",
       "      <td>...</td>\n",
       "      <td>...</td>\n",
       "      <td>...</td>\n",
       "      <td>...</td>\n",
       "      <td>...</td>\n",
       "      <td>...</td>\n",
       "      <td>...</td>\n",
       "      <td>...</td>\n",
       "      <td>...</td>\n",
       "      <td>...</td>\n",
       "      <td>...</td>\n",
       "      <td>...</td>\n",
       "      <td>...</td>\n",
       "      <td>...</td>\n",
       "      <td>...</td>\n",
       "      <td>...</td>\n",
       "      <td>...</td>\n",
       "      <td>...</td>\n",
       "      <td>...</td>\n",
       "      <td>...</td>\n",
       "      <td>...</td>\n",
       "    </tr>\n",
       "    <tr>\n",
       "      <th>539</th>\n",
       "      <td>11200.0</td>\n",
       "      <td>S</td>\n",
       "      <td>3.4440</td>\n",
       "      <td>5.5476</td>\n",
       "      <td>NaN</td>\n",
       "      <td>NaN</td>\n",
       "      <td>NaN</td>\n",
       "      <td>NaN</td>\n",
       "      <td>NaN</td>\n",
       "      <td>NaN</td>\n",
       "      <td>...</td>\n",
       "      <td>6.2491</td>\n",
       "      <td>6.3515</td>\n",
       "      <td>6.4452</td>\n",
       "      <td>6.5324</td>\n",
       "      <td>6.6147</td>\n",
       "      <td>6.6929</td>\n",
       "      <td>6.7679</td>\n",
       "      <td>6.8401</td>\n",
       "      <td>6.9099</td>\n",
       "      <td>6.9777</td>\n",
       "    </tr>\n",
       "    <tr>\n",
       "      <th>540</th>\n",
       "      <td>11400.0</td>\n",
       "      <td>V</td>\n",
       "      <td>1.5040</td>\n",
       "      <td>15.2840</td>\n",
       "      <td>NaN</td>\n",
       "      <td>NaN</td>\n",
       "      <td>NaN</td>\n",
       "      <td>NaN</td>\n",
       "      <td>NaN</td>\n",
       "      <td>NaN</td>\n",
       "      <td>...</td>\n",
       "      <td>24.1040</td>\n",
       "      <td>25.5990</td>\n",
       "      <td>27.0100</td>\n",
       "      <td>28.3590</td>\n",
       "      <td>29.6610</td>\n",
       "      <td>30.9250</td>\n",
       "      <td>32.1600</td>\n",
       "      <td>33.3700</td>\n",
       "      <td>34.5600</td>\n",
       "      <td>35.7330</td>\n",
       "    </tr>\n",
       "    <tr>\n",
       "      <th>541</th>\n",
       "      <td>11400.0</td>\n",
       "      <td>U</td>\n",
       "      <td>1450.0000</td>\n",
       "      <td>2527.2000</td>\n",
       "      <td>NaN</td>\n",
       "      <td>NaN</td>\n",
       "      <td>NaN</td>\n",
       "      <td>NaN</td>\n",
       "      <td>NaN</td>\n",
       "      <td>NaN</td>\n",
       "      <td>...</td>\n",
       "      <td>2873.1000</td>\n",
       "      <td>2929.4000</td>\n",
       "      <td>2982.6000</td>\n",
       "      <td>3033.9000</td>\n",
       "      <td>3083.9000</td>\n",
       "      <td>3133.1000</td>\n",
       "      <td>3181.9000</td>\n",
       "      <td>3230.4000</td>\n",
       "      <td>3278.8000</td>\n",
       "      <td>3327.2000</td>\n",
       "    </tr>\n",
       "    <tr>\n",
       "      <th>542</th>\n",
       "      <td>11400.0</td>\n",
       "      <td>H</td>\n",
       "      <td>1467.2000</td>\n",
       "      <td>2701.5000</td>\n",
       "      <td>NaN</td>\n",
       "      <td>NaN</td>\n",
       "      <td>NaN</td>\n",
       "      <td>NaN</td>\n",
       "      <td>NaN</td>\n",
       "      <td>NaN</td>\n",
       "      <td>...</td>\n",
       "      <td>3147.9000</td>\n",
       "      <td>3221.2000</td>\n",
       "      <td>3290.5000</td>\n",
       "      <td>3357.2000</td>\n",
       "      <td>3422.1000</td>\n",
       "      <td>3485.7000</td>\n",
       "      <td>3548.5000</td>\n",
       "      <td>3610.8000</td>\n",
       "      <td>3672.8000</td>\n",
       "      <td>3734.6000</td>\n",
       "    </tr>\n",
       "    <tr>\n",
       "      <th>543</th>\n",
       "      <td>11400.0</td>\n",
       "      <td>S</td>\n",
       "      <td>3.4575</td>\n",
       "      <td>5.5357</td>\n",
       "      <td>NaN</td>\n",
       "      <td>NaN</td>\n",
       "      <td>NaN</td>\n",
       "      <td>NaN</td>\n",
       "      <td>NaN</td>\n",
       "      <td>NaN</td>\n",
       "      <td>...</td>\n",
       "      <td>6.2367</td>\n",
       "      <td>6.3399</td>\n",
       "      <td>6.4341</td>\n",
       "      <td>6.5218</td>\n",
       "      <td>6.6043</td>\n",
       "      <td>6.6828</td>\n",
       "      <td>6.7580</td>\n",
       "      <td>6.8304</td>\n",
       "      <td>6.9004</td>\n",
       "      <td>6.9683</td>\n",
       "    </tr>\n",
       "  </tbody>\n",
       "</table>\n",
       "<p>544 rows × 37 columns</p>\n",
       "</div>"
      ],
      "text/plain": [
       "     Pressure Property    Liq_Sat      Vap_Sat           75          100  \\\n",
       "0         1.0        V     1.0000  129200.0000  160640.0000  172180.0000   \n",
       "1         1.0        U    29.3340    2385.2000    2480.8000    2516.4000   \n",
       "2         1.0        H    29.3350    2514.4000    2641.5000    2688.6000   \n",
       "3         1.0        S     0.1060       8.9767       9.3828       9.5136   \n",
       "4        10.0        V     1.0100   14670.0000   16030.0000   17190.0000   \n",
       "..        ...      ...        ...          ...          ...          ...   \n",
       "539   11200.0        S     3.4440       5.5476          NaN          NaN   \n",
       "540   11400.0        V     1.5040      15.2840          NaN          NaN   \n",
       "541   11400.0        U  1450.0000    2527.2000          NaN          NaN   \n",
       "542   11400.0        H  1467.2000    2701.5000          NaN          NaN   \n",
       "543   11400.0        S     3.4575       5.5357          NaN          NaN   \n",
       "\n",
       "             125          150          175          200  ...        425  \\\n",
       "0    183720.0000  195270.0000  206810.0000  218350.0000  ...        NaN   \n",
       "1      2552.3000    2588.5000    2624.9000    2661.7000  ...        NaN   \n",
       "2      2736.0000    2783.7000    2831.7000    2880.1000  ...        NaN   \n",
       "3         9.6365       9.7527       9.8629       9.9679  ...        NaN   \n",
       "4     18350.0000   19510.0000   20660.0000   21820.0000  ...        NaN   \n",
       "..           ...          ...          ...          ...  ...        ...   \n",
       "539          NaN          NaN          NaN          NaN  ...     6.2491   \n",
       "540          NaN          NaN          NaN          NaN  ...    24.1040   \n",
       "541          NaN          NaN          NaN          NaN  ...  2873.1000   \n",
       "542          NaN          NaN          NaN          NaN  ...  3147.9000   \n",
       "543          NaN          NaN          NaN          NaN  ...     6.2367   \n",
       "\n",
       "             450        475          500        525          550        575  \\\n",
       "0    333730.0000        NaN  356810.0000        NaN  379880.0000        NaN   \n",
       "1      3049.9000        NaN    3132.4000        NaN    3216.7000        NaN   \n",
       "2      3383.6000        NaN    3489.2000        NaN    3596.5000        NaN   \n",
       "3        10.8200        NaN      10.9612        NaN      11.0957        NaN   \n",
       "4     33370.0000        NaN   35670.0000        NaN   37980.0000        NaN   \n",
       "..           ...        ...          ...        ...          ...        ...   \n",
       "539       6.3515     6.4452       6.5324     6.6147       6.6929     6.7679   \n",
       "540      25.5990    27.0100      28.3590    29.6610      30.9250    32.1600   \n",
       "541    2929.4000  2982.6000    3033.9000  3083.9000    3133.1000  3181.9000   \n",
       "542    3221.2000  3290.5000    3357.2000  3422.1000    3485.7000  3548.5000   \n",
       "543       6.3399     6.4341       6.5218     6.6043       6.6828     6.7580   \n",
       "\n",
       "             600        625          650  \n",
       "0    402960.0000        NaN  426040.0000  \n",
       "1      3302.6000        NaN    3390.3000  \n",
       "2      3705.6000        NaN    3816.4000  \n",
       "3        11.2243        NaN      11.3476  \n",
       "4     40290.0000        NaN   42600.0000  \n",
       "..           ...        ...          ...  \n",
       "539       6.8401     6.9099       6.9777  \n",
       "540      33.3700    34.5600      35.7330  \n",
       "541    3230.4000  3278.8000    3327.2000  \n",
       "542    3610.8000  3672.8000    3734.6000  \n",
       "543       6.8304     6.9004       6.9683  \n",
       "\n",
       "[544 rows x 37 columns]"
      ]
     },
     "execution_count": 19,
     "metadata": {},
     "output_type": "execute_result"
    }
   ],
   "source": [
    "df = pd.read_csv(\"superheated_vapor_properties.csv\")\n",
    "df"
   ]
  },
  {
   "cell_type": "code",
   "execution_count": 20,
   "id": "c77c5867",
   "metadata": {},
   "outputs": [],
   "source": [
    "#Plotting the data#"
   ]
  },
  {
   "cell_type": "code",
   "execution_count": 21,
   "id": "a79c2cf8",
   "metadata": {},
   "outputs": [
    {
     "data": {
      "image/png": "[encoded data removed]",
      "text/plain": [
       "<Figure size 432x288 with 1 Axes>"
      ]
     },
     "metadata": {
      "needs_background": "light"
     },
     "output_type": "display_data"
    }
   ],
   "source": [
    "df=df.loc[(df['Property']=='V')]\n",
    "plt.scatter(df['Pressure'].values,df['Vap_Sat'].values )\n",
    "plt.show()"
   ]
  },
  {
   "cell_type": "code",
   "execution_count": 22,
   "id": "203a1a12",
   "metadata": {},
   "outputs": [],
   "source": [
    "#Defining functions#"
   ]
  },
  {
   "cell_type": "code",
   "execution_count": 23,
   "id": "b00dee24",
   "metadata": {},
   "outputs": [],
   "source": [
    "def loss(y_hat, y):\n",
    "    l = abs((y_hat - y) ** 2 / 2)\n",
    "    return l.mean()\n",
    "\n",
    "def forward_pass(x,m,c):\n",
    "    return m*x+c\n",
    "\n",
    "def gradient_descent(x,y,m,c,learning_rate,N):\n",
    "   y_hat=forward_pass(x,m,c)\n",
    "   dm = (2.0/N) * -np.sum(np.multiply(x,(y - y_hat)))\n",
    "   dc = (2.0/N) * -np.sum((y - y_hat))\n",
    "   m = m -learning_rate * dm\n",
    "   c = c - learning_rate * dc\n",
    "   return m,c"
   ]
  },
  {
   "cell_type": "code",
   "execution_count": 24,
   "id": "62a07a73",
   "metadata": {},
   "outputs": [],
   "source": [
    "#Plotting pressure < 300 #"
   ]
  },
  {
   "cell_type": "code",
   "execution_count": 25,
   "id": "eb50940f",
   "metadata": {},
   "outputs": [
    {
     "data": {
      "image/png": "[encoded data removed]",
      "text/plain": [
       "<Figure size 432x288 with 1 Axes>"
      ]
     },
     "metadata": {
      "needs_background": "light"
     },
     "output_type": "display_data"
    }
   ],
   "source": [
    "df1 = df.loc[(df['Pressure'] < 300)]\n",
    "x1 = df1['Pressure'].values\n",
    "y1 = df1['Vap_Sat'].values\n",
    "plt.scatter(x1,y1)\n",
    "plt.show()"
   ]
  },
  {
   "cell_type": "code",
   "execution_count": 26,
   "id": "de9cd183",
   "metadata": {},
   "outputs": [],
   "source": [
    "#Using sklearn#"
   ]
  },
  {
   "cell_type": "code",
   "execution_count": 27,
   "id": "e83f8ee7",
   "metadata": {},
   "outputs": [
    {
     "name": "stdout",
     "output_type": "stream",
     "text": [
      "Slope of the model is:  [-145.33343846]\n",
      "Intercept of the model is:  [27608.03471493]\n",
      "r2 score of the model is:  0.16815590648253187\n"
     ]
    }
   ],
   "source": [
    "model1 = LinearRegression()\n",
    "model1.fit(x1.reshape(x1.shape[0],1),y1.reshape(y1.shape[0],1))\n",
    "print(\"Slope of the model is: \", model1.coef_[0])\n",
    "print(\"Intercept of the model is: \", model1.intercept_)\n",
    "print(\"r2 score of the model is: \", r2_score(y1,model1.coef_[0]*x1+model1.intercept_))"
   ]
  },
  {
   "cell_type": "code",
   "execution_count": 28,
   "id": "d47d3c78",
   "metadata": {},
   "outputs": [],
   "source": [
    "#Using scratch#"
   ]
  },
  {
   "cell_type": "code",
   "execution_count": 29,
   "id": "60e973ae",
   "metadata": {},
   "outputs": [
    {
     "name": "stdout",
     "output_type": "stream",
     "text": [
      "Slope of the model is:  [-128.21332922]\n",
      "Intercept of the model is:  [24526.71103158]\n",
      "r2 score of the model is:  0.1644786717931448\n"
     ]
    }
   ],
   "source": [
    "m1 = np.random.randn(1)\n",
    "c1 = np.random.randn(1)\n",
    "learning_rate = 0.00001\n",
    "num_epochs = 300000\n",
    "for i in range(num_epochs):\n",
    "    m1,c1 = gradient_descent(x1,y1,m1,c1,learning_rate,x1.shape[0])\n",
    "print(\"Slope of the model is: \", m1)\n",
    "print(\"Intercept of the model is: \", c1)\n",
    "print(\"r2 score of the model is: \", r2_score(y1,m1*x1+c1))"
   ]
  },
  {
   "cell_type": "code",
   "execution_count": 30,
   "id": "7d3e0426",
   "metadata": {},
   "outputs": [],
   "source": [
    "#Comparison#"
   ]
  },
  {
   "cell_type": "code",
   "execution_count": 31,
   "id": "1f36b4ea",
   "metadata": {},
   "outputs": [
    {
     "data": {
      "image/png": "[encoded data removed]",
      "text/plain": [
       "<Figure size 432x288 with 1 Axes>"
      ]
     },
     "metadata": {
      "needs_background": "light"
     },
     "output_type": "display_data"
    },
    {
     "data": {
      "image/png": "[encoded data removed]",
      "text/plain": [
       "<Figure size 432x288 with 1 Axes>"
      ]
     },
     "metadata": {
      "needs_background": "light"
     },
     "output_type": "display_data"
    },
    {
     "name": "stdout",
     "output_type": "stream",
     "text": [
      "Also note that the time taken for sklearn implementation was much less than scratch implementation.\n"
     ]
    }
   ],
   "source": [
    "plt.plot(x1,y1,'go')\n",
    "plt.plot(x1,model1.coef_[0]*x1+model1.intercept_,'r-')\n",
    "plt.plot(x1,m1*x1+c1,'y-')\n",
    "plt.legend(['Data','Sklearn implementation','Scratch Implementation'])\n",
    "plt.title(\"Graph showing given data and obtained lines\")\n",
    "plt.show()\n",
    "plt.bar(np.array([\"Sklearn Implementation\",\"Scratch Implementation\"]), np.array([r2_score(y1,model1.coef_[0]*x1+model1.intercept_),r2_score(y1,m1*x1+c1) ]))\n",
    "plt.title(\"Bar Graph comparing r2 scores of both implementations\")\n",
    "plt.show()\n",
    "print(\"Also note that the time taken for sklearn implementation was much less than scratch implementation.\")"
   ]
  },
  {
   "cell_type": "code",
   "execution_count": 32,
   "id": "703d1c4d",
   "metadata": {},
   "outputs": [],
   "source": [
    "#Repeatingfor pressure[300,1500]#"
   ]
  },
  {
   "cell_type": "code",
   "execution_count": 33,
   "id": "6b5ffbf1",
   "metadata": {},
   "outputs": [
    {
     "data": {
      "image/png": "[encoded data removed]",
      "text/plain": [
       "<Figure size 432x288 with 1 Axes>"
      ]
     },
     "metadata": {
      "needs_background": "light"
     },
     "output_type": "display_data"
    }
   ],
   "source": [
    "df2 = df.loc[(df['Pressure'] >= 300) & (df['Pressure'] < 1500)]\n",
    "x2 = df2['Pressure'].values\n",
    "y2 = df2['Vap_Sat'].values\n",
    "plt.scatter(x2,y2)\n",
    "plt.show()\n",
    "x2 = x2.reshape(x2.shape[0],1)\n",
    "y2 = y2.reshape(y2.shape[0],1)\n",
    "x2_train, x2_test, y2_train, y2_test= train_test_split(x2,y2,test_size=0.2,random_state=2)"
   ]
  },
  {
   "cell_type": "code",
   "execution_count": 34,
   "id": "9cacb274",
   "metadata": {},
   "outputs": [
    {
     "name": "stdout",
     "output_type": "stream",
     "text": [
      "Slope of the model is:  [-0.33790614]\n",
      "Intercept of the model is:  [554.81485668]\n",
      "r2 score of the model is:  0.7905619304260574\n"
     ]
    }
   ],
   "source": [
    "model2 = LinearRegression()\n",
    "model2.fit(x2_train,y2_train)\n",
    "y2_predicted = model2.predict(x2_test)\n",
    "print(\"Slope of the model is: \", model2.coef_[0])\n",
    "print(\"Intercept of the model is: \", model2.intercept_)\n",
    "print(\"r2 score of the model is: \", r2_score(y2_test, y2_predicted))"
   ]
  },
  {
   "cell_type": "code",
   "execution_count": 35,
   "id": "992486ca",
   "metadata": {},
   "outputs": [
    {
     "name": "stdout",
     "output_type": "stream",
     "text": [
      "Slope of the model is:  -0.1848404716210462\n",
      "Intercept of the model is:  411.1433207201005\n",
      "r2 score of the model is:  0.5174191840234251\n"
     ]
    }
   ],
   "source": [
    "m2 = 0\n",
    "c2 = 300\n",
    "learning_rate = 0.000001\n",
    "num_epochs = 2000000\n",
    "for i in range(num_epochs):\n",
    "    m2,c2 = gradient_descent(x2_train.reshape(-1),y2_train.reshape(-1),m2,c2,learning_rate,x2_train.shape[0])\n",
    "print(\"Slope of the model is: \", m2)\n",
    "print(\"Intercept of the model is: \", c2)\n",
    "print(\"r2 score of the model is: \", r2_score(y2_test,m2*x2_test+c2))"
   ]
  },
  {
   "cell_type": "code",
   "execution_count": 36,
   "id": "905f4d24",
   "metadata": {},
   "outputs": [
    {
     "data": {
      "image/png": "[encoded data removed]",
      "text/plain": [
       "<Figure size 432x288 with 1 Axes>"
      ]
     },
     "metadata": {
      "needs_background": "light"
     },
     "output_type": "display_data"
    },
    {
     "data": {
      "image/png": "[encoded data removed]",
      "text/plain": [
       "<Figure size 432x288 with 1 Axes>"
      ]
     },
     "metadata": {
      "needs_background": "light"
     },
     "output_type": "display_data"
    }
   ],
   "source": [
    "plt.plot(x2,y2,'go')\n",
    "plt.plot(x2,model2.coef_[0]*x2+model2.intercept_,'r-')\n",
    "plt.plot(x2,m2*x2+c2,'y-')\n",
    "plt.legend(['Data','Sklearn implementation','Scratch Implementation'])\n",
    "plt.title(\"Graph showing given data and obtained lines\")\n",
    "plt.show()\n",
    "plt.bar(np.array([\"Sklearn Implementation\",\"Scratch Implementation\"]), np.array([r2_score(y2_test, y2_predicted),r2_score(y2_test,m2*x2_test+c2) ]))\n",
    "plt.title(\"Bar Graph comparing r2 scores of both implementations\")\n",
    "plt.show()"
   ]
  },
  {
   "cell_type": "code",
   "execution_count": 37,
   "id": "3865b2c2",
   "metadata": {},
   "outputs": [],
   "source": [
    "#Repeating for pressure>1500#"
   ]
  },
  {
   "cell_type": "code",
   "execution_count": 38,
   "id": "ebe8f050",
   "metadata": {},
   "outputs": [
    {
     "data": {
      "image/png": "[encoded data removed]",
      "text/plain": [
       "<Figure size 432x288 with 1 Axes>"
      ]
     },
     "metadata": {
      "needs_background": "light"
     },
     "output_type": "display_data"
    }
   ],
   "source": [
    "df3 = df.loc[(df['Pressure'] >= 1500)]\n",
    "x3 = df3['Pressure'].values\n",
    "y3 = df3['Vap_Sat'].values\n",
    "plt.scatter(x3,y3)\n",
    "plt.show()"
   ]
  },
  {
   "cell_type": "code",
   "execution_count": 39,
   "id": "77953b4c",
   "metadata": {},
   "outputs": [
    {
     "name": "stdout",
     "output_type": "stream",
     "text": [
      "Slope of the model is:  [-0.00983263]\n",
      "Intercept of the model is:  [103.50437059]\n",
      "r2 score of the model is:  0.7640960509847484\n"
     ]
    }
   ],
   "source": [
    "model3 = LinearRegression()\n",
    "model3.fit(x3.reshape(x3.shape[0],1),y3.reshape(y3.shape[0],1))\n",
    "print(\"Slope of the model is: \", model3.coef_[0])\n",
    "print(\"Intercept of the model is: \", model3.intercept_)\n",
    "print(\"r2 score of the model is: \", r2_score(y3,model3.coef_[0]*x3+model3.intercept_))"
   ]
  },
  {
   "cell_type": "code",
   "execution_count": 40,
   "id": "34a3774c",
   "metadata": {},
   "outputs": [
    {
     "name": "stdout",
     "output_type": "stream",
     "text": [
      "Slope of the model is:  -0.006509314692809743\n",
      "Intercept of the model is:  80.59516736947127\n",
      "r2 score of the model is:  0.6530811637085214\n"
     ]
    }
   ],
   "source": [
    "m3 = 0\n",
    "c3 = 80\n",
    "learning_rate = 0.00000002\n",
    "num_epochs = 3000000\n",
    "for i in range(num_epochs):\n",
    "    m3,c3 = gradient_descent(x3,y3,m3,c3,learning_rate,x3.shape[0])\n",
    "print(\"Slope of the model is: \", m3)\n",
    "print(\"Intercept of the model is: \", c3)\n",
    "print(\"r2 score of the model is: \", r2_score(y3,m3*x3+c3))"
   ]
  },
  {
   "cell_type": "code",
   "execution_count": 41,
   "id": "fc039b4e",
   "metadata": {},
   "outputs": [
    {
     "data": {
      "image/png": "[encoded data removed]",
      "text/plain": [
       "<Figure size 432x288 with 1 Axes>"
      ]
     },
     "metadata": {
      "needs_background": "light"
     },
     "output_type": "display_data"
    },
    {
     "data": {
      "image/png": "[encoded data removed]",
      "text/plain": [
       "<Figure size 432x288 with 1 Axes>"
      ]
     },
     "metadata": {
      "needs_background": "light"
     },
     "output_type": "display_data"
    }
   ],
   "source": [
    "plt.plot(x3,y3,'go')\n",
    "plt.plot(x3,model3.coef_[0]*x3+model3.intercept_,'r-')\n",
    "plt.plot(x3,m3*x3+c3,'y-')\n",
    "plt.legend(['Data','Sklearn implementation','Scratch Implementation'])\n",
    "plt.title(\"Graph showing given data and obtained lines\")\n",
    "plt.show()\n",
    "plt.bar(np.array([\"Sklearn Implementation\",\"Scratch Implementation\"]), np.array([r2_score(y3,model3.coef_[0]*x3+model3.intercept_),r2_score(y3,m3*x3+c3) ]))\n",
    "plt.title(\"Bar Graph comparing r2 scores of both implementations\")\n",
    "plt.show()"
   ]
  }
 ],
 "metadata": {
  "kernelspec": {
   "display_name": "Python 3 (ipykernel)",
   "language": "python",
   "name": "python3"
  },
  "language_info": {
   "codemirror_mode": {
    "name": "ipython",
    "version": 3
   },
   "file_extension": ".py",
   "mimetype": "text/x-python",
   "name": "python",
   "nbconvert_exporter": "python",
   "pygments_lexer": "ipython3",
   "version": "3.10.4"
  }
 },
 "nbformat": 4,
 "nbformat_minor": 5
}
